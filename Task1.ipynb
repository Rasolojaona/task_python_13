{
 "cells": [
  {
   "cell_type": "markdown",
   "id": "14ee1b3a-5093-4c16-8081-20707add6cbd",
   "metadata": {},
   "source": [
    "**Task 1**"
   ]
  },
  {
   "cell_type": "markdown",
   "id": "9d581260-d952-4e68-b909-6c50bcdd7fff",
   "metadata": {},
   "source": [
    "1. We are having 3 list like this Colors = [“Yellow”,”Green”,”White”,”Black”] Fruits=\n",
    "[“Apple”,”Papaya”,”Mango”,”Orange”] Animals=[“Tiger”,”Lion”,”Deer”,”Zebra”]\n",
    "i. Write a program that asks user to enter a Color/Fruit/Animal name and it should tell which\n",
    "category belongs to , like its is a fruit or color or Animal."
   ]
  },
  {
   "cell_type": "code",
   "execution_count": 1,
   "id": "bd4a6576-500d-48e3-b123-87ef0a8fd01b",
   "metadata": {},
   "outputs": [
    {
     "name": "stdin",
     "output_type": "stream",
     "text": [
      "Enter the name:  Apple\n"
     ]
    },
    {
     "name": "stdout",
     "output_type": "stream",
     "text": [
      "Category: Fruit\n"
     ]
    }
   ],
   "source": [
    "Colors = ['Yellow', 'Green', 'White', 'Black']\n",
    "Fruit = ['Apple', 'Papaya', 'Mango', 'Orange']\n",
    "Animals = ['Tiger', 'Lion', 'Deer', 'Zebra']\n",
    "name=input(\"Enter the name: \")\n",
    "if name in Colors:\n",
    "    category = 'Colours'\n",
    "elif name in Fruit:\n",
    "    category = 'Fruit'\n",
    "elif name in Animals:\n",
    "    category = 'Animals'\n",
    "else:\n",
    "    category = \"Invalid\"\n",
    "print(f'Category: {category}')"
   ]
  },
  {
   "cell_type": "markdown",
   "id": "abaf750e-7fd0-445f-b7b2-578d4415add4",
   "metadata": {},
   "source": [
    "ii. Write a program that asks user to enter two cities and it tells you if they both are in same\n",
    "country or not. For example if I enter yellow and Black, it will print \"Both are colors\" but if I enter\n",
    "yellow and Tiger it should print \"They don't belong to same category\"\n"
   ]
  },
  {
   "cell_type": "code",
   "execution_count": 2,
   "id": "a111b008-1ac5-4bda-a04e-9d0a072eb44c",
   "metadata": {},
   "outputs": [
    {
     "name": "stdin",
     "output_type": "stream",
     "text": [
      " Tiger\n",
      " Lion\n"
     ]
    },
    {
     "name": "stdout",
     "output_type": "stream",
     "text": [
      "Category: Both are animals\n"
     ]
    }
   ],
   "source": [
    "x = input()\n",
    "y = input()\n",
    "if x in Colors and y in Colors:\n",
    "    category = \"Both are colors\"\n",
    "elif x in Fruit and y in Fruit:\n",
    "    category = \"Both are fruits\"\n",
    "elif x in Animals and y in Animals:\n",
    "    category = \"Both are animals\"\n",
    "else:\n",
    "    category = \"They don't belong to same category\"\n",
    "print(f'Category: {category}')"
   ]
  },
  {
   "cell_type": "markdown",
   "id": "3bc76342-217b-464f-be58-fbc8aec9bd52",
   "metadata": {},
   "source": [
    "2. Write a python program that can tell you if your grade score good or not . Good Score\n",
    "range is 40 to 60.i. Ask user to enter his score. ii. If it is below 40 to 60 range then print that score is low iii. If\n",
    "it is above 60 then print that it is good otherwise print that it is normal"
   ]
  },
  {
   "cell_type": "code",
   "execution_count": 3,
   "id": "debed40d-c6e0-439d-951a-4d16f838f440",
   "metadata": {},
   "outputs": [
    {
     "name": "stdin",
     "output_type": "stream",
     "text": [
      "Enter your score:  50\n"
     ]
    },
    {
     "name": "stdout",
     "output_type": "stream",
     "text": [
      "normal\n"
     ]
    }
   ],
   "source": [
    "score = eval(input(\"Enter your score: \"))\n",
    "if score < 40:\n",
    "    print(\"low\")\n",
    "elif score > 60:\n",
    "    print(\"good\")\n",
    "else:\n",
    "    print(\"normal\")"
   ]
  },
  {
   "cell_type": "markdown",
   "id": "c03ad7c4-7a84-45e6-bf7d-269a74b2734f",
   "metadata": {},
   "source": [
    "3.   After appearing in exam 10 times you got this result,\n",
    "\n",
    "result = [\"Pass\",\"Fail\",\"Fail\",\"Pass\",\"Fail\",\"Pass\",\"Pass\",\"Fail\",\"Fail\",\"Fail\"]\n",
    "\n",
    "Using for loop figure out how many times you got Pass"
   ]
  },
  {
   "cell_type": "code",
   "execution_count": 4,
   "id": "36a377cf-97b0-44ff-8398-03f7ecdf9ddd",
   "metadata": {},
   "outputs": [
    {
     "name": "stdout",
     "output_type": "stream",
     "text": [
      "4\n"
     ]
    }
   ],
   "source": [
    "result = [\"Pass\",\"Fail\",\"Fail\",\"Pass\",\"Fail\",\"Pass\",\"Pass\",\"Fail\",\"Fail\",\"Fail\"]\n",
    "i = 0\n",
    "for str in result:\n",
    "    if str == \"Pass\":\n",
    "        i = i +1\n",
    "print(i)"
   ]
  },
  {
   "cell_type": "markdown",
   "id": "7767e002-09f0-4576-9213-201ce88dda78",
   "metadata": {},
   "source": [
    "4.  Write a program that prints following shape\n",
    " "
   ]
  },
  {
   "cell_type": "code",
   "execution_count": 5,
   "id": "00947ae4-ffa9-4241-8548-be0f409d4cdb",
   "metadata": {},
   "outputs": [
    {
     "name": "stdout",
     "output_type": "stream",
     "text": [
      "\n",
      "* \n",
      "* * \n",
      "* * * \n",
      "* * * * \n",
      "* * * * * \n",
      "* * * * \n",
      "* * * \n",
      "* * \n",
      "* \n"
     ]
    }
   ],
   "source": [
    "n = 5\n",
    "for i in range(n):\n",
    "    for j in range(i):\n",
    "        print('* ', end=\"\")\n",
    "    print()\n",
    "for i in range(n, 0, -1):\n",
    "    for j in range(i):\n",
    "        print('* ', end=\"\")\n",
    "    print()"
   ]
  },
  {
   "cell_type": "markdown",
   "id": "f8e28676-81c4-40ad-bdac-8f8d7946e940",
   "metadata": {},
   "source": [
    "5. Lets say you are running a 50 km race. Write a program that, \n",
    "\n",
    "*   Upon completing each 10 km asks you \"are you tired?\" \n",
    "*   If you reply \"yes\" then it should break and print \"you didn't\n",
    "finish the race\"\n",
    "*   If you reply \"no\" then it should continue and ask \"are you tired\" on every km\n",
    "*   If you finish all 50 km then it should print congratulations message"
   ]
  },
  {
   "cell_type": "code",
   "execution_count": 6,
   "id": "2a3807d7-7565-4bb3-9053-5e62d0393ccc",
   "metadata": {},
   "outputs": [
    {
     "name": "stdout",
     "output_type": "stream",
     "text": [
      "Are you tired?\n"
     ]
    },
    {
     "name": "stdin",
     "output_type": "stream",
     "text": [
      "yes/no: no\n"
     ]
    },
    {
     "name": "stdout",
     "output_type": "stream",
     "text": [
      "Are you tired?\n"
     ]
    },
    {
     "name": "stdin",
     "output_type": "stream",
     "text": [
      "yes/no: no\n"
     ]
    },
    {
     "name": "stdout",
     "output_type": "stream",
     "text": [
      "Are you tired?\n"
     ]
    },
    {
     "name": "stdin",
     "output_type": "stream",
     "text": [
      "yes/no: no\n"
     ]
    },
    {
     "name": "stdout",
     "output_type": "stream",
     "text": [
      "Are you tired?\n"
     ]
    },
    {
     "name": "stdin",
     "output_type": "stream",
     "text": [
      "yes/no: no\n"
     ]
    },
    {
     "name": "stdout",
     "output_type": "stream",
     "text": [
      "congratulations\n"
     ]
    }
   ],
   "source": [
    "for dist in range(10, 51, 10):\n",
    "    if dist < 50:\n",
    "        print(\"Are you tired?\")\n",
    "        reply=input(\"yes/no:\")\n",
    "        if reply == \"yes\":\n",
    "            print(\"you didn't finish the race\")\n",
    "            break\n",
    "        elif reply == \"no\":\n",
    "            continue\n",
    "        else:\n",
    "            print(\"Invalid\")\n",
    "    if dist == 50:\n",
    "        print(\"congratulations\")"
   ]
  },
  {
   "cell_type": "markdown",
   "id": "970f6a42-5084-4451-9f6d-17dd3d944990",
   "metadata": {},
   "source": [
    "6. Write a Python program to find those numbers which are divisible by 7 and multiple of 5, between 1500 and 2700 (both included)."
   ]
  },
  {
   "cell_type": "code",
   "execution_count": 7,
   "id": "31400a3e-9ec0-4a0f-ab77-12e819b3841c",
   "metadata": {},
   "outputs": [
    {
     "name": "stdout",
     "output_type": "stream",
     "text": [
      "1505 1540 1575 1610 1645 1680 1715 1750 1785 1820 1855 1890 1925 1960 1995 2030 2065 2100 2135 2170 2205 2240 2275 2310 2345 2380 2415 2450 2485 2520 2555 2590 2625 2660 2695 "
     ]
    }
   ],
   "source": [
    "for n in range(1500, 2700):\n",
    "    if n % 5 == 0 and n % 7 == 0:\n",
    "        print(n, end=\" \")"
   ]
  },
  {
   "cell_type": "markdown",
   "id": "9c6f715d-ef6d-4c04-88fe-c7c2c503d69d",
   "metadata": {},
   "source": [
    "7. Print square of all numbers between 10 to 20 except even numbers"
   ]
  },
  {
   "cell_type": "code",
   "execution_count": 8,
   "id": "516279cd-0fc0-48f4-af29-0632933640cb",
   "metadata": {},
   "outputs": [
    {
     "name": "stdout",
     "output_type": "stream",
     "text": [
      "121 169 225 289 361 "
     ]
    }
   ],
   "source": [
    "for i in range(10, 20):\n",
    "    if i % 2 == 1:\n",
    "        print(i**2, end=\" \")"
   ]
  },
  {
   "cell_type": "markdown",
   "id": "71e0cce3-4bee-4f3e-9702-28260c9999c3",
   "metadata": {},
   "source": [
    "8. Your Marks for five Test(test1 to test5) looks like this,\n",
    "\n",
    "marks_list = [65, 75, 2100, 95, 83]\n",
    "\n",
    "Write a program that asks you to enter marks and program should tell you in which test that marks occurred. If marks is not found then it should print that as well."
   ]
  },
  {
   "cell_type": "code",
   "execution_count": 9,
   "id": "25ceb8d7-6464-4ba8-b7a3-15ef1947c88e",
   "metadata": {},
   "outputs": [
    {
     "name": "stdin",
     "output_type": "stream",
     "text": [
      "Enter your marks:  83\n"
     ]
    },
    {
     "name": "stdout",
     "output_type": "stream",
     "text": [
      "Test found in index: 4\n"
     ]
    }
   ],
   "source": [
    "marks_list = [65, 75, 2100, 95, 83]\n",
    "marks = eval(input(\"Enter your marks: \"))\n",
    "if marks in marks_list:\n",
    "    index = marks_list.index(marks)\n",
    "    print(f'Test found in index: {index}')\n",
    "else:\n",
    "    print(\"Test not found\")"
   ]
  },
  {
   "cell_type": "code",
   "execution_count": null,
   "id": "04bb6332-f5e0-4916-9cbc-28a6047f618b",
   "metadata": {},
   "outputs": [],
   "source": []
  }
 ],
 "metadata": {
  "kernelspec": {
   "display_name": "Python 3 (ipykernel)",
   "language": "python",
   "name": "python3"
  },
  "language_info": {
   "codemirror_mode": {
    "name": "ipython",
    "version": 3
   },
   "file_extension": ".py",
   "mimetype": "text/x-python",
   "name": "python",
   "nbconvert_exporter": "python",
   "pygments_lexer": "ipython3",
   "version": "3.11.7"
  }
 },
 "nbformat": 4,
 "nbformat_minor": 5
}
